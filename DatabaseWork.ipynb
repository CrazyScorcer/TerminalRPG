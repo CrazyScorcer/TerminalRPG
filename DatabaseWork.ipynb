{
 "cells": [
  {
   "cell_type": "code",
   "execution_count": 1,
   "metadata": {},
   "outputs": [],
   "source": [
    "import sqlite3\n",
    "connect = sqlite3.connect(\"Info.db\")\n",
    "cursor = connect.cursor()"
   ]
  },
  {
   "cell_type": "code",
   "execution_count": 44,
   "metadata": {},
   "outputs": [
    {
     "ename": "OperationalError",
     "evalue": "table PlayerInfo already exists",
     "output_type": "error",
     "traceback": [
      "\u001b[1;31m---------------------------------------------------------------------------\u001b[0m",
      "\u001b[1;31mOperationalError\u001b[0m                          Traceback (most recent call last)",
      "Cell \u001b[1;32mIn[44], line 1\u001b[0m\n\u001b[1;32m----> 1\u001b[0m cursor\u001b[39m.\u001b[39;49mexecute(\u001b[39m\"\u001b[39;49m\u001b[39mCreate Table PlayerInfo (PlayerName varchar(255), HP int, MaxHP int, ATK int, DEF int, SPD int, EXP int, LVL int, Seed int, JobID int, Primary Key (PlayerName))\u001b[39;49m\u001b[39m\"\u001b[39;49m)\n",
      "\u001b[1;31mOperationalError\u001b[0m: table PlayerInfo already exists"
     ]
    }
   ],
   "source": [
    "cursor.execute(\"Create Table PlayerInfo (PlayerName varchar(255), HP int, MaxHP int, ATK int, DEF int, SPD int, EXP int, LVL int, Seed int, JobID int, Primary Key (PlayerName))\")\n",
    "cursor.execute(\"Alter table PlayerInfo add Deaths int\")"
   ]
  },
  {
   "cell_type": "code",
   "execution_count": 31,
   "metadata": {},
   "outputs": [
    {
     "data": {
      "text/plain": [
       "<sqlite3.Cursor at 0x21ff73b47c0>"
      ]
     },
     "execution_count": 31,
     "metadata": {},
     "output_type": "execute_result"
    }
   ],
   "source": [
    "cursor.execute(\"Create Table Jobs (JobID int, JobName varchar(255), Primary Key (JobID))\")"
   ]
  },
  {
   "cell_type": "code",
   "execution_count": 50,
   "metadata": {},
   "outputs": [
    {
     "data": {
      "text/plain": [
       "<sqlite3.Cursor at 0x21ff73b47c0>"
      ]
     },
     "execution_count": 50,
     "metadata": {},
     "output_type": "execute_result"
    }
   ],
   "source": [
    "cursor.execute(\"Drop table MonsterRoomInfo\")\n",
    "cursor.execute(\"Create table MonsterRoomInfo (MonsterRoomID int, MonsterAmount int, Difficulty int, Primary Key (MonsterRoomID))\")"
   ]
  },
  {
   "cell_type": "code",
   "execution_count": 5,
   "metadata": {},
   "outputs": [
    {
     "data": {
      "text/plain": [
       "<sqlite3.Cursor at 0x17fd77ac2c0>"
      ]
     },
     "execution_count": 5,
     "metadata": {},
     "output_type": "execute_result"
    }
   ],
   "source": [
    "cursor.execute(\"Drop table ArmorType\")\n",
    "cursor.execute(\"Create table ArmorType (ArmorTypeID int, Name varchar(255), Primary Key(ArmorID))\")"
   ]
  },
  {
   "cell_type": "code",
   "execution_count": 12,
   "metadata": {},
   "outputs": [
    {
     "data": {
      "text/plain": [
       "<sqlite3.Cursor at 0x17fd77ac2c0>"
      ]
     },
     "execution_count": 12,
     "metadata": {},
     "output_type": "execute_result"
    }
   ],
   "source": [
    "cursor.execute(\"Create table Armor(ArmorID int, ArmorTypeID int, Name varchar(255), HP int, DEF int, SPD int, Primary Key(ArmorID))\")"
   ]
  },
  {
   "cell_type": "code",
   "execution_count": 16,
   "metadata": {},
   "outputs": [
    {
     "data": {
      "text/plain": [
       "<sqlite3.Cursor at 0x17fd77ac2c0>"
      ]
     },
     "execution_count": 16,
     "metadata": {},
     "output_type": "execute_result"
    }
   ],
   "source": [
    "cursor.execute(\"Drop table PlayerArmor\")\n",
    "cursor.execute(\"Create table PlayerArmor (PlayerName varchar(255), ArmorID int, Primary Key (PlayerName, ArmorID), Foreign Key (PlayerName) References PlayerInfo(PlayerName), Foreign Key (ArmorID) References Armor(ArmorID))\")"
   ]
  },
  {
   "cell_type": "code",
   "execution_count": 20,
   "metadata": {},
   "outputs": [
    {
     "data": {
      "text/plain": [
       "<sqlite3.Cursor at 0x17fd77ac2c0>"
      ]
     },
     "execution_count": 20,
     "metadata": {},
     "output_type": "execute_result"
    }
   ],
   "source": [
    "cursor.execute(\"Create table Weapon(WeaponID int, Name varchar(255), ATK int, Primary Key(WeaponID))\")"
   ]
  },
  {
   "cell_type": "code",
   "execution_count": 19,
   "metadata": {},
   "outputs": [
    {
     "data": {
      "text/plain": [
       "<sqlite3.Cursor at 0x17fd77ac2c0>"
      ]
     },
     "execution_count": 19,
     "metadata": {},
     "output_type": "execute_result"
    }
   ],
   "source": [
    "cursor.execute(\"Create table PlayerWeapon (PlayerName varchar(255), WeaponID int, Primary Key (PlayerName), Foreign Key (PlayerName) References PlayerInfo(PlayerName), Foreign Key (WeaponID) References Weapon(WeaponID))\")"
   ]
  },
  {
   "cell_type": "code",
   "execution_count": 68,
   "metadata": {},
   "outputs": [
    {
     "data": {
      "text/plain": [
       "1"
      ]
     },
     "execution_count": 68,
     "metadata": {},
     "output_type": "execute_result"
    }
   ],
   "source": [
    "cursor.execute(f\"Select Count(PlayerName) From PlayerWeapon Where PlayerName = 'Ian'\").fetchone()[0]"
   ]
  },
  {
   "cell_type": "code",
   "execution_count": 39,
   "metadata": {},
   "outputs": [
    {
     "data": {
      "text/plain": [
       "<sqlite3.Cursor at 0x17fd77ac2c0>"
      ]
     },
     "execution_count": 39,
     "metadata": {},
     "output_type": "execute_result"
    }
   ],
   "source": [
    "cursor.execute(\"Insert into Armor VALUEs(1,1,'BasicHelm1',0,1,0)\")\n",
    "cursor.execute(\"Insert into Armor VALUEs(2,1,'BasicHelm2',0,1,0)\")\n",
    "cursor.execute(\"Insert into Armor VALUEs(3,1,'BasicHelm3',0,1,0)\")"
   ]
  },
  {
   "cell_type": "code",
   "execution_count": 47,
   "metadata": {},
   "outputs": [
    {
     "data": {
      "text/plain": [
       "<sqlite3.Cursor at 0x17fd77ac2c0>"
      ]
     },
     "execution_count": 47,
     "metadata": {},
     "output_type": "execute_result"
    }
   ],
   "source": [
    "cursor.execute(\"Insert into Armor VALUEs(4,2,'BasicChest1',0,1,0)\")\n",
    "cursor.execute(\"Insert into Armor VALUEs(5,2,'BasicChest2',0,1,0)\")\n",
    "cursor.execute(\"Insert into Armor VALUEs(6,2,'BasicChest3',0,1,0)\")"
   ]
  },
  {
   "cell_type": "code",
   "execution_count": 49,
   "metadata": {},
   "outputs": [
    {
     "data": {
      "text/plain": [
       "<sqlite3.Cursor at 0x17fd77ac2c0>"
      ]
     },
     "execution_count": 49,
     "metadata": {},
     "output_type": "execute_result"
    }
   ],
   "source": [
    "cursor.execute(\"Insert into PlayerArmor Values('Ian',1)\")\n",
    "cursor.execute(\"Insert into PlayerArmor Values('Ian',4)\")"
   ]
  },
  {
   "cell_type": "code",
   "execution_count": 9,
   "metadata": {},
   "outputs": [
    {
     "data": {
      "text/plain": [
       "('Ian', 1, 1, 1, 'BasicHelm', 0, 1, 0, 1, 'Helmet')"
      ]
     },
     "execution_count": 9,
     "metadata": {},
     "output_type": "execute_result"
    }
   ],
   "source": [
    "cursor.execute(\"Select * From ((PlayerArmor Inner Join Armor ON PlayerArmor.ArmorID = Armor.ArmorID) Inner Join ArmorType ON Armor.ArmorTypeID = ArmorType.ArmorTypeID) Where PlayerArmor.PlayerName = 'Ian'\").fetchone()"
   ]
  },
  {
   "cell_type": "code",
   "execution_count": 61,
   "metadata": {},
   "outputs": [
    {
     "name": "stdout",
     "output_type": "stream",
     "text": [
      "['PlayerName', 'ArmorID', 'ArmorID', 'ArmorTypeID', 'Name', 'HP', 'DEF', 'SPD', 'ArmorTypeID', 'Name']\n"
     ]
    }
   ],
   "source": [
    "cNames = list(map(lambda x: x[0],cursor.description))\n",
    "print(cNames)"
   ]
  },
  {
   "cell_type": "code",
   "execution_count": 3,
   "metadata": {},
   "outputs": [
    {
     "data": {
      "text/plain": [
       "<sqlite3.Cursor at 0x1d94a5a7ac0>"
      ]
     },
     "execution_count": 3,
     "metadata": {},
     "output_type": "execute_result"
    }
   ],
   "source": [
    "cursor.execute(\"Drop table Weapon\")"
   ]
  },
  {
   "cell_type": "code",
   "execution_count": 50,
   "metadata": {},
   "outputs": [],
   "source": [
    "connect.commit()"
   ]
  }
 ],
 "metadata": {
  "kernelspec": {
   "display_name": "Python 3",
   "language": "python",
   "name": "python3"
  },
  "language_info": {
   "codemirror_mode": {
    "name": "ipython",
    "version": 3
   },
   "file_extension": ".py",
   "mimetype": "text/x-python",
   "name": "python",
   "nbconvert_exporter": "python",
   "pygments_lexer": "ipython3",
   "version": "3.10.10"
  },
  "orig_nbformat": 4
 },
 "nbformat": 4,
 "nbformat_minor": 2
}
