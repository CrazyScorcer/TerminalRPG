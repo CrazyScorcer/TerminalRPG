{
 "cells": [
  {
   "cell_type": "code",
   "execution_count": 2,
   "metadata": {},
   "outputs": [],
   "source": [
    "import sqlite3\n",
    "connect = sqlite3.connect(\"Info.db\")\n",
    "cursor = connect.cursor()"
   ]
  },
  {
   "cell_type": "code",
   "execution_count": 14,
   "metadata": {},
   "outputs": [
    {
     "data": {
      "text/plain": [
       "<sqlite3.Cursor at 0x21ff73b47c0>"
      ]
     },
     "execution_count": 14,
     "metadata": {},
     "output_type": "execute_result"
    }
   ],
   "source": [
    "cursor.execute(\"Create Table PlayerInfo (PlayerName varchar(255), HP int, MaxHP int, ATK int, DEF int, SPD int, EXP int, LVL int, Seed int, JobID int, Primary Key (PlayerName))\")"
   ]
  },
  {
   "cell_type": "code",
   "execution_count": 18,
   "metadata": {},
   "outputs": [
    {
     "data": {
      "text/plain": [
       "<sqlite3.Cursor at 0x21ff73b47c0>"
      ]
     },
     "execution_count": 18,
     "metadata": {},
     "output_type": "execute_result"
    }
   ],
   "source": [
    "cursor.execute(\"Insert into PlayerInfo VALUEs('Ian', 2, 3, 3, 3, 3, 3, 1, 64165706414, 1)\")"
   ]
  },
  {
   "cell_type": "code",
   "execution_count": 31,
   "metadata": {},
   "outputs": [
    {
     "data": {
      "text/plain": [
       "<sqlite3.Cursor at 0x21ff73b47c0>"
      ]
     },
     "execution_count": 31,
     "metadata": {},
     "output_type": "execute_result"
    }
   ],
   "source": [
    "cursor.execute(\"Create Table Jobs (JobID int, JobName varchar(255), Primary Key (JobID))\")"
   ]
  },
  {
   "cell_type": "code",
   "execution_count": 32,
   "metadata": {},
   "outputs": [
    {
     "data": {
      "text/plain": [
       "<sqlite3.Cursor at 0x21ff73b47c0>"
      ]
     },
     "execution_count": 32,
     "metadata": {},
     "output_type": "execute_result"
    }
   ],
   "source": [
    "cursor.execute(\"Insert into Jobs VALUEs(1, 'Warrior')\")\n",
    "cursor.execute(\"Insert into Jobs VALUEs(2, 'Mage')\")\n",
    "cursor.execute(\"Insert into Jobs VALUEs(3, 'Thief')\")"
   ]
  },
  {
   "cell_type": "code",
   "execution_count": 36,
   "metadata": {},
   "outputs": [
    {
     "data": {
      "text/plain": [
       "<sqlite3.Cursor at 0x21ff73b47c0>"
      ]
     },
     "execution_count": 36,
     "metadata": {},
     "output_type": "execute_result"
    }
   ],
   "source": [
    "cursor.execute(\"update Jobs set MaxHP = 3, ATK = 2, DEF = 3, SPD = 1 WHERE JobID = 1\")\n",
    "cursor.execute(\"update Jobs set MaxHP = 2, ATK = 4, DEF = 1, SPD = 2 WHERE JobID = 2\")\n",
    "cursor.execute(\"update Jobs set MaxHP = 1, ATK = 3, DEF = 2, SPD = 3 WHERE JobID = 3\")"
   ]
  },
  {
   "cell_type": "code",
   "execution_count": 44,
   "metadata": {},
   "outputs": [
    {
     "data": {
      "text/plain": [
       "<sqlite3.Cursor at 0x21ff73b47c0>"
      ]
     },
     "execution_count": 44,
     "metadata": {},
     "output_type": "execute_result"
    }
   ],
   "source": [
    "cursor.execute(\"Alter table PlayerInfo add Deaths int\")"
   ]
  },
  {
   "cell_type": "code",
   "execution_count": 50,
   "metadata": {},
   "outputs": [
    {
     "data": {
      "text/plain": [
       "<sqlite3.Cursor at 0x21ff73b47c0>"
      ]
     },
     "execution_count": 50,
     "metadata": {},
     "output_type": "execute_result"
    }
   ],
   "source": [
    "cursor.execute(\"Drop table MonsterRoomInfo\")\n",
    "cursor.execute(\"Create table MonsterRoomInfo (MonsterRoomID int, MonsterAmount int, Difficulty int, Primary Key (MonsterRoomID))\")"
   ]
  },
  {
   "cell_type": "code",
   "execution_count": 51,
   "metadata": {},
   "outputs": [
    {
     "data": {
      "text/plain": [
       "<sqlite3.Cursor at 0x21ff73b47c0>"
      ]
     },
     "execution_count": 51,
     "metadata": {},
     "output_type": "execute_result"
    }
   ],
   "source": [
    "cursor.execute(\"Insert into MonsterRoomInfo VALUEs(1,1,3)\")\n",
    "cursor.execute(\"Insert into MonsterRoomInfo VALUEs(2,2,2)\")\n",
    "cursor.execute(\"Insert into MonsterRoomInfo VALUEs(3,3,1)\")\n",
    "cursor.execute(\"Insert into MonsterRoomInfo VALUEs(4,1,6)\")"
   ]
  },
  {
   "cell_type": "code",
   "execution_count": 56,
   "metadata": {},
   "outputs": [
    {
     "data": {
      "text/plain": [
       "<sqlite3.Cursor at 0x21ff73b47c0>"
      ]
     },
     "execution_count": 56,
     "metadata": {},
     "output_type": "execute_result"
    }
   ],
   "source": [
    "cursor.execute(\"Update PlayerInfo Set EXP = 0 where PlayerName = 'Ian'\")"
   ]
  },
  {
   "cell_type": "code",
   "execution_count": 57,
   "metadata": {},
   "outputs": [],
   "source": [
    "connect.commit()"
   ]
  }
 ],
 "metadata": {
  "kernelspec": {
   "display_name": "Python 3",
   "language": "python",
   "name": "python3"
  },
  "language_info": {
   "codemirror_mode": {
    "name": "ipython",
    "version": 3
   },
   "file_extension": ".py",
   "mimetype": "text/x-python",
   "name": "python",
   "nbconvert_exporter": "python",
   "pygments_lexer": "ipython3",
   "version": "3.11.0"
  },
  "orig_nbformat": 4
 },
 "nbformat": 4,
 "nbformat_minor": 2
}
